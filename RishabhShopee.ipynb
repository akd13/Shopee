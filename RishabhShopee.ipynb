{
 "cells": [
  {
   "cell_type": "code",
   "execution_count": 1,
   "metadata": {
    "scrolled": false
   },
   "outputs": [
    {
     "name": "stderr",
     "output_type": "stream",
     "text": [
      "/scratchd/home/rishab/anaconda3/envs/myenv/lib/python3.6/site-packages/h5py/__init__.py:36: FutureWarning: Conversion of the second argument of issubdtype from `float` to `np.floating` is deprecated. In future, it will be treated as `np.float64 == np.dtype(float).type`.\n",
      "  from ._conv import register_converters as _register_converters\n",
      "Using TensorFlow backend.\n"
     ]
    }
   ],
   "source": [
    "from keras import applications\n",
    "from keras.preprocessing.image import ImageDataGenerator\n",
    "from keras import optimizers\n",
    "from keras.models import Model\n",
    "from keras.layers import Dropout, Flatten, Dense, GlobalAveragePooling2D\n",
    "from keras.utils.training_utils import multi_gpu_model\n",
    "from keras.callbacks import EarlyStopping\n",
    "from keras.utils import to_categorical\n",
    "import numpy as np\n",
    "import matplotlib.pyplot as plt\n",
    "import glob\n",
    "import cv2\n",
    "import matplotlib.image as mpimg\n",
    "import pandas as pd\n",
    "import os\n",
    "%matplotlib inline"
   ]
  },
  {
   "cell_type": "code",
   "execution_count": 2,
   "metadata": {
    "collapsed": true
   },
   "outputs": [],
   "source": [
    "import tensorflow as tf\n",
    "from keras.backend.tensorflow_backend import set_session\n",
    "config = tf.ConfigProto()\n",
    "config.gpu_options.allow_growth = True\n",
    "set_session(tf.Session(config=config))"
   ]
  },
  {
   "cell_type": "markdown",
   "metadata": {},
   "source": [
    "# Load Data"
   ]
  },
  {
   "cell_type": "code",
   "execution_count": 3,
   "metadata": {},
   "outputs": [
    {
     "name": "stdout",
     "output_type": "stream",
     "text": [
      "16111\n"
     ]
    }
   ],
   "source": [
    "testFiles = glob.glob('../Test/*.jpg')\n",
    "print (len(testFiles))"
   ]
  },
  {
   "cell_type": "code",
   "execution_count": 4,
   "metadata": {
    "collapsed": true
   },
   "outputs": [],
   "source": [
    "trainFileClasses = glob.glob('../Train/*')\n",
    "#trainFileClasses"
   ]
  },
  {
   "cell_type": "code",
   "execution_count": 5,
   "metadata": {
    "collapsed": true
   },
   "outputs": [],
   "source": [
    "trainFiles = [] # list of files for one class [0]\n",
    "for i in range(len(trainFileClasses)):\n",
    "    trainFiles.append(glob.glob(trainFileClasses[i] + '/*.jpg'))\n"
   ]
  },
  {
   "cell_type": "code",
   "execution_count": 6,
   "metadata": {},
   "outputs": [
    {
     "name": "stdout",
     "output_type": "stream",
     "text": [
      "38211 38211\n"
     ]
    }
   ],
   "source": [
    "trainFilesFlat = [] # flattened version\n",
    "trainLabels = [] #flattened version\n",
    "for i in range(len(trainFiles)):\n",
    "    trainFilesFlat += trainFiles[i]\n",
    "    trainLabels += [trainFileClasses[i].split('/')[-1]] * len(trainFiles[i])\n",
    "print (len(trainFilesFlat), len(trainLabels))\n",
    "# Old number 38217. Removed None images now"
   ]
  },
  {
   "cell_type": "code",
   "execution_count": 7,
   "metadata": {},
   "outputs": [
    {
     "data": {
      "text/html": [
       "<div>\n",
       "<style scoped>\n",
       "    .dataframe tbody tr th:only-of-type {\n",
       "        vertical-align: middle;\n",
       "    }\n",
       "\n",
       "    .dataframe tbody tr th {\n",
       "        vertical-align: top;\n",
       "    }\n",
       "\n",
       "    .dataframe thead th {\n",
       "        text-align: right;\n",
       "    }\n",
       "</style>\n",
       "<table border=\"1\" class=\"dataframe\">\n",
       "  <thead>\n",
       "    <tr style=\"text-align: right;\">\n",
       "      <th></th>\n",
       "      <th>filenames</th>\n",
       "      <th>labels</th>\n",
       "    </tr>\n",
       "  </thead>\n",
       "  <tbody>\n",
       "    <tr>\n",
       "      <th>0</th>\n",
       "      <td>../Train/BabyBibs/BabyBibs_10.jpg</td>\n",
       "      <td>BabyBibs</td>\n",
       "    </tr>\n",
       "    <tr>\n",
       "      <th>1</th>\n",
       "      <td>../Train/BabyBibs/BabyBibs_100.jpg</td>\n",
       "      <td>BabyBibs</td>\n",
       "    </tr>\n",
       "    <tr>\n",
       "      <th>2</th>\n",
       "      <td>../Train/BabyBibs/BabyBibs_1000.jpg</td>\n",
       "      <td>BabyBibs</td>\n",
       "    </tr>\n",
       "    <tr>\n",
       "      <th>3</th>\n",
       "      <td>../Train/BabyBibs/BabyBibs_1001.jpg</td>\n",
       "      <td>BabyBibs</td>\n",
       "    </tr>\n",
       "    <tr>\n",
       "      <th>4</th>\n",
       "      <td>../Train/BabyBibs/BabyBibs_1002.jpg</td>\n",
       "      <td>BabyBibs</td>\n",
       "    </tr>\n",
       "  </tbody>\n",
       "</table>\n",
       "</div>"
      ],
      "text/plain": [
       "                             filenames    labels\n",
       "0    ../Train/BabyBibs/BabyBibs_10.jpg  BabyBibs\n",
       "1   ../Train/BabyBibs/BabyBibs_100.jpg  BabyBibs\n",
       "2  ../Train/BabyBibs/BabyBibs_1000.jpg  BabyBibs\n",
       "3  ../Train/BabyBibs/BabyBibs_1001.jpg  BabyBibs\n",
       "4  ../Train/BabyBibs/BabyBibs_1002.jpg  BabyBibs"
      ]
     },
     "execution_count": 7,
     "metadata": {},
     "output_type": "execute_result"
    }
   ],
   "source": [
    "trainData = pd.DataFrame({'filenames' : trainFilesFlat, 'labels' : trainLabels})\n",
    "del trainFileClasses\n",
    "del trainFiles\n",
    "del trainFilesFlat\n",
    "del trainLabels\n",
    "trainData.head()"
   ]
  },
  {
   "cell_type": "code",
   "execution_count": 8,
   "metadata": {
    "collapsed": true
   },
   "outputs": [],
   "source": [
    "classes = trainData['labels'].unique()"
   ]
  },
  {
   "cell_type": "code",
   "execution_count": 9,
   "metadata": {},
   "outputs": [
    {
     "data": {
      "text/html": [
       "<div>\n",
       "<style scoped>\n",
       "    .dataframe tbody tr th:only-of-type {\n",
       "        vertical-align: middle;\n",
       "    }\n",
       "\n",
       "    .dataframe tbody tr th {\n",
       "        vertical-align: top;\n",
       "    }\n",
       "\n",
       "    .dataframe thead th {\n",
       "        text-align: right;\n",
       "    }\n",
       "</style>\n",
       "<table border=\"1\" class=\"dataframe\">\n",
       "  <thead>\n",
       "    <tr style=\"text-align: right;\">\n",
       "      <th></th>\n",
       "      <th>filenames</th>\n",
       "      <th>labels</th>\n",
       "    </tr>\n",
       "  </thead>\n",
       "  <tbody>\n",
       "    <tr>\n",
       "      <th>38206</th>\n",
       "      <td>../Train/womendollshoes/womendollshoes_1348.jpg</td>\n",
       "      <td>womendollshoes</td>\n",
       "    </tr>\n",
       "    <tr>\n",
       "      <th>38207</th>\n",
       "      <td>../Train/womensleevelesstop/womensleevelesstop...</td>\n",
       "      <td>womensleevelesstop</td>\n",
       "    </tr>\n",
       "    <tr>\n",
       "      <th>38208</th>\n",
       "      <td>../Train/womenpeashoes/womenpeashoes_261.jpg</td>\n",
       "      <td>womenpeashoes</td>\n",
       "    </tr>\n",
       "    <tr>\n",
       "      <th>38209</th>\n",
       "      <td>../Train/womenlazyshoes/womenlazyshoes_2804.jpg</td>\n",
       "      <td>womenlazyshoes</td>\n",
       "    </tr>\n",
       "    <tr>\n",
       "      <th>38210</th>\n",
       "      <td>../Train/PackageFart/PackageFart_703.jpg</td>\n",
       "      <td>PackageFart</td>\n",
       "    </tr>\n",
       "  </tbody>\n",
       "</table>\n",
       "</div>"
      ],
      "text/plain": [
       "                                               filenames              labels\n",
       "38206    ../Train/womendollshoes/womendollshoes_1348.jpg      womendollshoes\n",
       "38207  ../Train/womensleevelesstop/womensleevelesstop...  womensleevelesstop\n",
       "38208       ../Train/womenpeashoes/womenpeashoes_261.jpg       womenpeashoes\n",
       "38209    ../Train/womenlazyshoes/womenlazyshoes_2804.jpg      womenlazyshoes\n",
       "38210           ../Train/PackageFart/PackageFart_703.jpg         PackageFart"
      ]
     },
     "execution_count": 9,
     "metadata": {},
     "output_type": "execute_result"
    }
   ],
   "source": [
    "# Shuffle the data\n",
    "trainData = trainData.sample(frac=1).reset_index(drop=True)\n",
    "trainData.tail()"
   ]
  },
  {
   "cell_type": "code",
   "execution_count": 10,
   "metadata": {},
   "outputs": [
    {
     "data": {
      "text/plain": [
       "array(['BabyBibs', 'BabyHat', 'BabyPants', 'BabyShirt', 'PackageFart',\n",
       "       'womanshirtsleeve', 'womencasualshoes', 'womenchiffontop',\n",
       "       'womendollshoes', 'womenknittedtop', 'womenlazyshoes',\n",
       "       'womenlongsleevetop', 'womenpeashoes', 'womenplussizedtop',\n",
       "       'womenpointedflatshoes', 'womensleevelesstop', 'womenstripedtop',\n",
       "       'wrapsnslings'], dtype=object)"
      ]
     },
     "execution_count": 10,
     "metadata": {},
     "output_type": "execute_result"
    }
   ],
   "source": [
    "# Get dev data here\n",
    "devData = []\n",
    "classes"
   ]
  },
  {
   "cell_type": "markdown",
   "metadata": {},
   "source": [
    "### Show Sample images"
   ]
  },
  {
   "cell_type": "code",
   "execution_count": 11,
   "metadata": {},
   "outputs": [
    {
     "data": {
      "text/plain": [
       "<matplotlib.image.AxesImage at 0x7f680c0842e8>"
      ]
     },
     "execution_count": 11,
     "metadata": {},
     "output_type": "execute_result"
    },
    {
     "data": {
      "image/png": "[encoded data removed]",
      "text/plain": [
       "<Figure size 432x288 with 1 Axes>"
      ]
     },
     "metadata": {},
     "output_type": "display_data"
    }
   ],
   "source": [
    "img = cv2.imread(trainData[trainData['labels'] == 'BabyHat']['filenames'].iloc[0])\n",
    "plt.imshow(img)"
   ]
  },
  {
   "cell_type": "code",
   "execution_count": 12,
   "metadata": {},
   "outputs": [
    {
     "name": "stdout",
     "output_type": "stream",
     "text": [
      "(224, 224, 3)\n"
     ]
    },
    {
     "data": {
      "text/plain": [
       "<matplotlib.image.AxesImage at 0x7f680c026978>"
      ]
     },
     "execution_count": 12,
     "metadata": {},
     "output_type": "execute_result"
    },
    {
     "data": {
      "image/png": "[encoded data removed]",
      "text/plain": [
       "<Figure size 432x288 with 1 Axes>"
      ]
     },
     "metadata": {},
     "output_type": "display_data"
    }
   ],
   "source": [
    "def getImage(filename):\n",
    "    try:\n",
    "        img = cv2.imread(filename)\n",
    "        img = cv2.resize(img, (224, 224))\n",
    "    except:\n",
    "        print (\"===ERROR===\", filename)\n",
    "    return img\n",
    "img = getImage(trainData[trainData['labels'] == 'BabyHat']['filenames'].iloc[0])\n",
    "print (img.shape)\n",
    "plt.imshow(img)"
   ]
  },
  {
   "cell_type": "code",
   "execution_count": 26,
   "metadata": {
    "collapsed": true
   },
   "outputs": [],
   "source": [
    "def myGenerator(trainx, trainy, batch_size):\n",
    "    while 1:\n",
    "        imax = int(len(trainx) / batch_size)\n",
    "        for i in range(imax):\n",
    "#             batchtrx = []\n",
    "#             batchtry = []\n",
    "#             for j in range(batch_size):\n",
    "#                 img = getImage(trainx[i*batch_size + j])\n",
    "#                 batchtrx.append(img)\n",
    "#                 batchtry.append(trainy[i*batch_size + j])\n",
    "#             batchtrx = np.array(batchtrx)\n",
    "#             batchtry = np.array(batchtry)\n",
    "            batchtrx = trainx[i * batch_size : (i + 1) * batch_size]\n",
    "            batchtry = trainy[i * batch_size : (i + 1) * batch_size]\n",
    "            batchtrx = np.array(batchtrx)\n",
    "            batchtry = np.array(batchtry)\n",
    "            #print (batchtrx.shape, batchtry.shape)\n",
    "            yield batchtrx, batchtry"
   ]
  },
  {
   "cell_type": "code",
   "execution_count": 15,
   "metadata": {},
   "outputs": [],
   "source": [
    "# Some images are None\n",
    "# img = cv2.imread('../Train/BabyPants/BabyPants_1.jpg')\n",
    "# print (img)"
   ]
  },
  {
   "cell_type": "code",
   "execution_count": 17,
   "metadata": {},
   "outputs": [
    {
     "name": "stdout",
     "output_type": "stream",
     "text": [
      "CPU times: user 2min 38s, sys: 18.5 s, total: 2min 57s\n",
      "Wall time: 6min\n"
     ]
    }
   ],
   "source": [
    "%%time\n",
    "# TAKES A LOT OF TIME TO RUN. Im loading in RAM as o/w generator was slow\n",
    "trainfilenames = trainData['filenames']\n",
    "trainx = [getImage(fname) for fname in trainfilenames]"
   ]
  },
  {
   "cell_type": "code",
   "execution_count": 18,
   "metadata": {
    "collapsed": true
   },
   "outputs": [],
   "source": [
    "trainy = trainData['labels']\n",
    "trainy = [np.where(classes == x)[0][0] for x in trainy]\n",
    "trainy = to_categorical(trainy)"
   ]
  },
  {
   "cell_type": "code",
   "execution_count": 19,
   "metadata": {
    "collapsed": true
   },
   "outputs": [],
   "source": [
    "DEV_SPLIT = 0.8\n",
    "devx = trainx[int(len(trainx)*DEV_SPLIT):]\n",
    "devy = trainy[int(len(trainy)*DEV_SPLIT):]\n",
    "trainx = trainx[:int(len(trainx)*DEV_SPLIT)]\n",
    "trainy = trainy[:int(len(trainy)*DEV_SPLIT)]"
   ]
  },
  {
   "cell_type": "markdown",
   "metadata": {},
   "source": [
    "# Model 1 - Resnet"
   ]
  },
  {
   "cell_type": "code",
   "execution_count": 20,
   "metadata": {
    "collapsed": true
   },
   "outputs": [],
   "source": [
    "def getModel():\n",
    "    baseModel = applications.ResNet50(weights='imagenet', include_top = False, input_shape=(224, 224, 3))\n",
    "    x = baseModel.output\n",
    "    x = GlobalAveragePooling2D()(x) # flatten can be tried too. Essentially same thing in resnet\n",
    "    x = Dense(1024, activation='relu')(x)\n",
    "    x = Dropout(0.5)(x)\n",
    "    preds = Dense(len(classes), activation='softmax')(x)\n",
    "    model = Model(inputs=baseModel.input, outputs=preds)\n",
    "    #model.summary()\n",
    "    for layer in baseModel.layers:\n",
    "        layer.trainable = False\n",
    "    return model"
   ]
  },
  {
   "cell_type": "code",
   "execution_count": 21,
   "metadata": {
    "collapsed": true
   },
   "outputs": [],
   "source": [
    "BATCH_SIZE = 64\n",
    "NUM_EPOCHS = 10\n",
    "GPUS = 5 # CHANGE ACC TO YOUR SYSTEM\n",
    "\n",
    "if GPUS > 1:\n",
    "    with tf.device(\"/cpu:0\"):\n",
    "        model = getModel()\n",
    "    model = multi_gpu_model(model, gpus = GPUS)\n",
    "else:\n",
    "    model = getModel()"
   ]
  },
  {
   "cell_type": "code",
   "execution_count": 22,
   "metadata": {},
   "outputs": [
    {
     "name": "stdout",
     "output_type": "stream",
     "text": [
      "__________________________________________________________________________________________________\n",
      "Layer (type)                    Output Shape         Param #     Connected to                     \n",
      "==================================================================================================\n",
      "input_1 (InputLayer)            (None, 224, 224, 3)  0                                            \n",
      "__________________________________________________________________________________________________\n",
      "lambda_1 (Lambda)               (None, 224, 224, 3)  0           input_1[0][0]                    \n",
      "__________________________________________________________________________________________________\n",
      "lambda_2 (Lambda)               (None, 224, 224, 3)  0           input_1[0][0]                    \n",
      "__________________________________________________________________________________________________\n",
      "lambda_3 (Lambda)               (None, 224, 224, 3)  0           input_1[0][0]                    \n",
      "__________________________________________________________________________________________________\n",
      "lambda_4 (Lambda)               (None, 224, 224, 3)  0           input_1[0][0]                    \n",
      "__________________________________________________________________________________________________\n",
      "lambda_5 (Lambda)               (None, 224, 224, 3)  0           input_1[0][0]                    \n",
      "__________________________________________________________________________________________________\n",
      "model_1 (Model)                 (None, 18)           25704338    lambda_1[0][0]                   \n",
      "                                                                 lambda_2[0][0]                   \n",
      "                                                                 lambda_3[0][0]                   \n",
      "                                                                 lambda_4[0][0]                   \n",
      "                                                                 lambda_5[0][0]                   \n",
      "__________________________________________________________________________________________________\n",
      "dense_2 (Concatenate)           (None, 18)           0           model_1[1][0]                    \n",
      "                                                                 model_1[2][0]                    \n",
      "                                                                 model_1[3][0]                    \n",
      "                                                                 model_1[4][0]                    \n",
      "                                                                 model_1[5][0]                    \n",
      "==================================================================================================\n",
      "Total params: 25,704,338\n",
      "Trainable params: 2,116,626\n",
      "Non-trainable params: 23,587,712\n",
      "__________________________________________________________________________________________________\n"
     ]
    }
   ],
   "source": [
    "model.summary()"
   ]
  },
  {
   "cell_type": "code",
   "execution_count": 23,
   "metadata": {
    "collapsed": true
   },
   "outputs": [],
   "source": [
    "model.compile(optimizer='adam', loss='categorical_crossentropy', metrics = ['accuracy'])"
   ]
  },
  {
   "cell_type": "code",
   "execution_count": 24,
   "metadata": {
    "collapsed": true
   },
   "outputs": [],
   "source": [
    "callbacks = [EarlyStopping(patience = 3, verbose = 1)]\n",
    "#callbacks = [EarlyStopping(patience = 3, verbose = 1), TensorBoard()]  # USE THIS IN FUTURE"
   ]
  },
  {
   "cell_type": "code",
   "execution_count": 27,
   "metadata": {},
   "outputs": [
    {
     "name": "stdout",
     "output_type": "stream",
     "text": [
      "Epoch 1/10\n",
      "95/95 [==============================] - 141s 1s/step - loss: 1.2650 - acc: 0.5863 - val_loss: 1.1222 - val_acc: 0.6132\n",
      "Epoch 2/10\n",
      "95/95 [==============================] - 120s 1s/step - loss: 0.8081 - acc: 0.7189 - val_loss: 1.0986 - val_acc: 0.6329\n",
      "Epoch 3/10\n",
      "95/95 [==============================] - 53s 560ms/step - loss: 0.6889 - acc: 0.7565 - val_loss: 1.1002 - val_acc: 0.6390\n",
      "Epoch 4/10\n",
      "95/95 [==============================] - 53s 556ms/step - loss: 0.6123 - acc: 0.7830 - val_loss: 1.0610 - val_acc: 0.6474\n",
      "Epoch 5/10\n",
      "95/95 [==============================] - 54s 573ms/step - loss: 0.5551 - acc: 0.8024 - val_loss: 1.0349 - val_acc: 0.6647\n",
      "Epoch 6/10\n",
      "95/95 [==============================] - 54s 566ms/step - loss: 0.5063 - acc: 0.8214 - val_loss: 1.0833 - val_acc: 0.6486\n",
      "Epoch 7/10\n",
      "95/95 [==============================] - 53s 562ms/step - loss: 0.4624 - acc: 0.8354 - val_loss: 1.1174 - val_acc: 0.6520\n",
      "Epoch 8/10\n",
      "95/95 [==============================] - 53s 562ms/step - loss: 0.4268 - acc: 0.8479 - val_loss: 1.1309 - val_acc: 0.6488\n",
      "Epoch 00008: early stopping\n"
     ]
    },
    {
     "data": {
      "text/plain": [
       "<keras.callbacks.History at 0x7f654a6fad68>"
      ]
     },
     "execution_count": 27,
     "metadata": {},
     "output_type": "execute_result"
    }
   ],
   "source": [
    "model.fit_generator(myGenerator(trainx, trainy, batch_size = BATCH_SIZE * GPUS),\n",
    "                    steps_per_epoch= len(trainx) // (BATCH_SIZE * GPUS), \n",
    "                    epochs=NUM_EPOCHS, \n",
    "                    verbose=1, \n",
    "                    callbacks=callbacks, \n",
    "                    validation_data=myGenerator(devx, devy, batch_size = BATCH_SIZE * GPUS), \n",
    "                    validation_steps= len(devx) // (BATCH_SIZE * GPUS))\n"
   ]
  },
  {
   "cell_type": "code",
   "execution_count": 38,
   "metadata": {},
   "outputs": [],
   "source": [
    "from keras.models import load_model\n",
    "\n",
    "# Workaround to save multi gpu models not working. Will include custom callback later\n",
    "# with tf.device(\"/cpu:0\"):\n",
    "#     singleGPUModel = getModel()\n",
    "# singleGPUModel.compile(optimizer='adam', loss='categorical_crossentropy', metrics = ['accuracy'])\n",
    "# singleGPUModel.set_weights(model.get_weights())\n",
    "# singleGPUModel.save('models/resnet50_10epochs_01_model.h5')\n",
    "#model.save('resnet50_10epochs_01_model.h5')\n",
    "\n",
    "# json_string = model.to_json()\n",
    "# f = open('models/resnet50_10epochs_01_architecture.json', 'w')\n",
    "# f.write(json_string)\n",
    "# f.close()\n",
    "\n",
    "model.save_weights('models/resnet50_10epochs_01_weights.h5')"
   ]
  },
  {
   "cell_type": "code",
   "execution_count": null,
   "metadata": {
    "collapsed": true
   },
   "outputs": [],
   "source": []
  },
  {
   "cell_type": "markdown",
   "metadata": {},
   "source": [
    "# Try Data Augmentation"
   ]
  },
  {
   "cell_type": "code",
   "execution_count": null,
   "metadata": {
    "collapsed": true
   },
   "outputs": [],
   "source": []
  },
  {
   "cell_type": "code",
   "execution_count": null,
   "metadata": {
    "collapsed": true
   },
   "outputs": [],
   "source": []
  },
  {
   "cell_type": "markdown",
   "metadata": {},
   "source": [
    "# Test and generate submission"
   ]
  },
  {
   "cell_type": "code",
   "execution_count": 28,
   "metadata": {},
   "outputs": [
    {
     "name": "stdout",
     "output_type": "stream",
     "text": [
      "CPU times: user 59.2 s, sys: 5.62 s, total: 1min 4s\n",
      "Wall time: 1min 26s\n"
     ]
    }
   ],
   "source": [
    "%%time\n",
    "# TAKES A LOT OF TIME TO RUN. Im loading in RAM as o/w generator was slow\n",
    "testx = [getImage(fname) for fname in testFiles]"
   ]
  },
  {
   "cell_type": "code",
   "execution_count": 32,
   "metadata": {
    "collapsed": true
   },
   "outputs": [],
   "source": [
    "testx = np.array(testx)"
   ]
  },
  {
   "cell_type": "code",
   "execution_count": 33,
   "metadata": {},
   "outputs": [
    {
     "name": "stdout",
     "output_type": "stream",
     "text": [
      "16111/16111 [==============================] - 103s 6ms/step\n"
     ]
    }
   ],
   "source": [
    "preds = model.predict(testx, verbose = 1, batch_size = (BATCH_SIZE * GPUS))"
   ]
  },
  {
   "cell_type": "code",
   "execution_count": 41,
   "metadata": {},
   "outputs": [],
   "source": [
    "preds = [np.argmax(p) for p in preds]"
   ]
  },
  {
   "cell_type": "code",
   "execution_count": 55,
   "metadata": {},
   "outputs": [],
   "source": [
    "testIds = [int(x.split('_')[-1].split('.')[0]) for x in testFiles]"
   ]
  },
  {
   "cell_type": "code",
   "execution_count": 56,
   "metadata": {},
   "outputs": [],
   "source": [
    "submission = pd.DataFrame({'id' : testIds, 'category' : preds})"
   ]
  },
  {
   "cell_type": "code",
   "execution_count": 57,
   "metadata": {},
   "outputs": [
    {
     "data": {
      "text/html": [
       "<div>\n",
       "<style scoped>\n",
       "    .dataframe tbody tr th:only-of-type {\n",
       "        vertical-align: middle;\n",
       "    }\n",
       "\n",
       "    .dataframe tbody tr th {\n",
       "        vertical-align: top;\n",
       "    }\n",
       "\n",
       "    .dataframe thead th {\n",
       "        text-align: right;\n",
       "    }\n",
       "</style>\n",
       "<table border=\"1\" class=\"dataframe\">\n",
       "  <thead>\n",
       "    <tr style=\"text-align: right;\">\n",
       "      <th></th>\n",
       "      <th>category</th>\n",
       "      <th>id</th>\n",
       "    </tr>\n",
       "  </thead>\n",
       "  <tbody>\n",
       "    <tr>\n",
       "      <th>0</th>\n",
       "      <td>5</td>\n",
       "      <td>1</td>\n",
       "    </tr>\n",
       "    <tr>\n",
       "      <th>1</th>\n",
       "      <td>0</td>\n",
       "      <td>10</td>\n",
       "    </tr>\n",
       "    <tr>\n",
       "      <th>2</th>\n",
       "      <td>9</td>\n",
       "      <td>100</td>\n",
       "    </tr>\n",
       "    <tr>\n",
       "      <th>3</th>\n",
       "      <td>0</td>\n",
       "      <td>1000</td>\n",
       "    </tr>\n",
       "    <tr>\n",
       "      <th>4</th>\n",
       "      <td>15</td>\n",
       "      <td>10000</td>\n",
       "    </tr>\n",
       "  </tbody>\n",
       "</table>\n",
       "</div>"
      ],
      "text/plain": [
       "   category     id\n",
       "0         5      1\n",
       "1         0     10\n",
       "2         9    100\n",
       "3         0   1000\n",
       "4        15  10000"
      ]
     },
     "execution_count": 57,
     "metadata": {},
     "output_type": "execute_result"
    }
   ],
   "source": [
    "submission.head()"
   ]
  },
  {
   "cell_type": "code",
   "execution_count": 58,
   "metadata": {},
   "outputs": [
    {
     "data": {
      "text/html": [
       "<div>\n",
       "<style scoped>\n",
       "    .dataframe tbody tr th:only-of-type {\n",
       "        vertical-align: middle;\n",
       "    }\n",
       "\n",
       "    .dataframe tbody tr th {\n",
       "        vertical-align: top;\n",
       "    }\n",
       "\n",
       "    .dataframe thead th {\n",
       "        text-align: right;\n",
       "    }\n",
       "</style>\n",
       "<table border=\"1\" class=\"dataframe\">\n",
       "  <thead>\n",
       "    <tr style=\"text-align: right;\">\n",
       "      <th></th>\n",
       "      <th>id</th>\n",
       "      <th>category</th>\n",
       "    </tr>\n",
       "  </thead>\n",
       "  <tbody>\n",
       "    <tr>\n",
       "      <th>0</th>\n",
       "      <td>1</td>\n",
       "      <td>5</td>\n",
       "    </tr>\n",
       "    <tr>\n",
       "      <th>1</th>\n",
       "      <td>10</td>\n",
       "      <td>0</td>\n",
       "    </tr>\n",
       "    <tr>\n",
       "      <th>2</th>\n",
       "      <td>100</td>\n",
       "      <td>9</td>\n",
       "    </tr>\n",
       "    <tr>\n",
       "      <th>3</th>\n",
       "      <td>1000</td>\n",
       "      <td>0</td>\n",
       "    </tr>\n",
       "    <tr>\n",
       "      <th>4</th>\n",
       "      <td>10000</td>\n",
       "      <td>15</td>\n",
       "    </tr>\n",
       "  </tbody>\n",
       "</table>\n",
       "</div>"
      ],
      "text/plain": [
       "      id  category\n",
       "0      1         5\n",
       "1     10         0\n",
       "2    100         9\n",
       "3   1000         0\n",
       "4  10000        15"
      ]
     },
     "execution_count": 58,
     "metadata": {},
     "output_type": "execute_result"
    }
   ],
   "source": [
    "columnsTitles=[\"id\",\"category\"]\n",
    "submission = submission.reindex(columns=columnsTitles)\n",
    "submission.head()"
   ]
  },
  {
   "cell_type": "code",
   "execution_count": 61,
   "metadata": {},
   "outputs": [
    {
     "data": {
      "text/html": [
       "<div>\n",
       "<style scoped>\n",
       "    .dataframe tbody tr th:only-of-type {\n",
       "        vertical-align: middle;\n",
       "    }\n",
       "\n",
       "    .dataframe tbody tr th {\n",
       "        vertical-align: top;\n",
       "    }\n",
       "\n",
       "    .dataframe thead th {\n",
       "        text-align: right;\n",
       "    }\n",
       "</style>\n",
       "<table border=\"1\" class=\"dataframe\">\n",
       "  <thead>\n",
       "    <tr style=\"text-align: right;\">\n",
       "      <th></th>\n",
       "      <th>id</th>\n",
       "      <th>category</th>\n",
       "    </tr>\n",
       "  </thead>\n",
       "  <tbody>\n",
       "    <tr>\n",
       "      <th>0</th>\n",
       "      <td>1</td>\n",
       "      <td>5</td>\n",
       "    </tr>\n",
       "    <tr>\n",
       "      <th>7223</th>\n",
       "      <td>2</td>\n",
       "      <td>0</td>\n",
       "    </tr>\n",
       "    <tr>\n",
       "      <th>8334</th>\n",
       "      <td>3</td>\n",
       "      <td>11</td>\n",
       "    </tr>\n",
       "    <tr>\n",
       "      <th>9445</th>\n",
       "      <td>4</td>\n",
       "      <td>1</td>\n",
       "    </tr>\n",
       "    <tr>\n",
       "      <th>10556</th>\n",
       "      <td>5</td>\n",
       "      <td>13</td>\n",
       "    </tr>\n",
       "  </tbody>\n",
       "</table>\n",
       "</div>"
      ],
      "text/plain": [
       "       id  category\n",
       "0       1         5\n",
       "7223    2         0\n",
       "8334    3        11\n",
       "9445    4         1\n",
       "10556   5        13"
      ]
     },
     "execution_count": 61,
     "metadata": {},
     "output_type": "execute_result"
    }
   ],
   "source": [
    "submission = submission.sort_values(by = ['id'])\n",
    "submission.head()"
   ]
  },
  {
   "cell_type": "code",
   "execution_count": 66,
   "metadata": {
    "collapsed": true
   },
   "outputs": [],
   "source": [
    "submission.to_csv('submissions/resnet50_10epochs_01.csv', index = False)"
   ]
  },
  {
   "cell_type": "markdown",
   "metadata": {},
   "source": [
    "# Mapping"
   ]
  },
  {
   "cell_type": "code",
   "execution_count": 63,
   "metadata": {},
   "outputs": [
    {
     "data": {
      "text/plain": [
       "{'BabyBibs': 0,\n",
       " 'BabyHat': 1,\n",
       " 'BabyPants': 2,\n",
       " 'BabyShirt': 3,\n",
       " 'PackageFart': 4,\n",
       " 'womanshirtsleeve': 5,\n",
       " 'womencasualshoes': 6,\n",
       " 'womenchiffontop': 7,\n",
       " 'womendollshoes': 8,\n",
       " 'womenknittedtop': 9,\n",
       " 'womenlazyshoes': 10,\n",
       " 'womenlongsleevetop': 11,\n",
       " 'womenpeashoes': 12,\n",
       " 'womenplussizedtop': 13,\n",
       " 'womenpointedflatshoes': 14,\n",
       " 'womensleevelesstop': 15,\n",
       " 'womenstripedtop': 16,\n",
       " 'wrapsnslings': 17}"
      ]
     },
     "execution_count": 63,
     "metadata": {},
     "output_type": "execute_result"
    }
   ],
   "source": [
    "mappingCategory = {}\n",
    "for i in range(len(classes)):\n",
    "    mappingCategory[classes[i]] = i\n",
    "mappingCategory"
   ]
  },
  {
   "cell_type": "code",
   "execution_count": 65,
   "metadata": {},
   "outputs": [],
   "source": [
    "import json\n",
    "with open('mappingCategory.json', 'w') as f:\n",
    "    json.dump(mappingCategory, f)"
   ]
  },
  {
   "cell_type": "code",
   "execution_count": null,
   "metadata": {
    "collapsed": true
   },
   "outputs": [],
   "source": []
  }
 ],
 "metadata": {
  "kernelspec": {
   "display_name": "Python [conda env:myenv]",
   "language": "python",
   "name": "conda-env-myenv-py"
  },
  "language_info": {
   "codemirror_mode": {
    "name": "ipython",
    "version": 3
   },
   "file_extension": ".py",
   "mimetype": "text/x-python",
   "name": "python",
   "nbconvert_exporter": "python",
   "pygments_lexer": "ipython3",
   "version": "3.6.4"
  }
 },
 "nbformat": 4,
 "nbformat_minor": 2
}
