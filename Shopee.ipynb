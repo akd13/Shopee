{
  "nbformat": 4,
  "nbformat_minor": 0,
  "metadata": {
    "colab": {
      "name": "Shopee.ipynb",
      "version": "0.3.2",
      "views": {},
      "default_view": {},
      "provenance": [],
      "collapsed_sections": []
    },
    "kernelspec": {
      "name": "python3",
      "display_name": "Python 3"
    },
    "accelerator": "GPU"
  },
  "cells": [
    {
      "metadata": {
        "id": "xdJA_lP1X3KL",
        "colab_type": "text"
      },
      "cell_type": "markdown",
      "source": [
        "### Standardise image sizes\n",
        "- From what i've seen online there's no set values to pick from.. maybe we can use the architecture's default input size"
      ]
    },
    {
      "metadata": {
        "id": "zV0Vk4oJX2LA",
        "colab_type": "code",
        "colab": {
          "autoexec": {
            "startup": false,
            "wait_interval": 0
          },
          "output_extras": [
            {
              "item_id": 1
            }
          ],
          "base_uri": "https://localhost:8080/",
          "height": 612
        },
        "outputId": "49d0380f-7fdf-4b88-d8fa-bf385156fa6c",
        "executionInfo": {
          "status": "ok",
          "timestamp": 1521215801620,
          "user_tz": -480,
          "elapsed": 6888,
          "user": {
            "displayName": "Chen Kuang",
            "photoUrl": "https://lh3.googleusercontent.com/a/default-user=s128",
            "userId": "116557127287388632451"
          }
        }
      },
      "cell_type": "code",
      "source": [
        "!pip install -U -q PyDrive\n",
        "\n",
        "from pydrive.auth import GoogleAuth\n",
        "from pydrive.drive import GoogleDrive\n",
        "from google.colab import auth\n",
        "from oauth2client.client import GoogleCredentials\n",
        "\n",
        "# 1. Authenticate and create the PyDrive client.\n",
        "auth.authenticate_user()\n",
        "gauth = GoogleAuth()\n",
        "gauth.credentials = GoogleCredentials.get_application_default()\n",
        "drive = GoogleDrive(gauth) # Create GoogleDrive instance with authenticated GoogleAuth instance\n",
        "\n",
        "# Auto-iterate through all files in the root folder.\n",
        "file_list = drive.ListFile({'q': \"'root' in parents and trashed=false\"}).GetList()\n",
        "for file1 in file_list:\n",
        "  print('title: %s, id: %s' % (file1['title'], file1['id'])) # look for the id of your test_image.zip and training_image.zip\n",
        "\n",
        "#insert ID of test_image.zip here  \n",
        "test_images = drive.CreateFile({'id': '1fFYk1UheJN5JlyqlqmQktg4h2aYuhlny'}) \n",
        "#insert ID of training_image.zip here\n",
        "training_images = drive.CreateFile({'id': '1c-CKmoQ-J5WgmqaJAcpPv3zk4qiud7ue'})"
      ],
      "execution_count": 1,
      "outputs": [
        {
          "output_type": "stream",
          "text": [
            "title: Sample upload.txt, id: 1iwnrhx6A4cEUB-x2IjmD22NtynPFoJjQ\n",
            "title: Test Images.zip, id: 1fFYk1UheJN5JlyqlqmQktg4h2aYuhlny\n",
            "title: Training Images.zip, id: 1c-CKmoQ-J5WgmqaJAcpPv3zk4qiud7ue\n",
            "title: Sample upload.txt, id: 1Hy8sn0Kp19aU_vpHNR9wlwhuvPmUs_uI\n",
            "title: (Project Brief) Parent-child Textspeak: An Experience Sampling Study, id: 16_48ZlyKexqtwjexwdNprzDHDM0m48QtkGurMebj0cU\n",
            "title: Untitled Diagram.html, id: 1eA8hI79hzOgir-wa162nQ03FwhwRzUD1\n",
            "title: Colab Notebooks, id: 135qxdKdpVtJiwV-3FbHxX0mf-VJ42evH\n",
            "title: chatbot.zip, id: 1T5GzTtUH7moegdKJ7iR7I67tmAx6HcjD\n",
            "title: Career, id: 10Hbg33OL5PFli6l1WQKXi-yWi7X94GUo\n",
            "title: Git-2.16.1-64-bit.exe, id: 1k0hZW1ssM55m5AKFqVYZAzzc_R7--tGk\n",
            "title: CS1010S 17/18 S2, id: 1dNw2HKIB-REKybwSqgq0VQrXQRrVJNv_\n",
            "title: Chatbots 101, id: 1W2ujbQrtBzlKKkrOE9NtAWgzMAqZ9cLGP3EOgUArrXc\n",
            "title: National Gallery Singapore Chatbot, id: 1fhtAltP99feTEocPX9myKQtqtyh3Z2peghUHHw9d-lQ\n",
            "title: Quotation, id: 1IUZNB-j_kHkTgmXkue0wepZL4Z2wFIa_W1fyVO47eME\n",
            "title: report feedback, id: 1XzGerEo30Za6RXC_hDjwVIBw1RB1EkQiQJ2X6IJhmR8\n",
            "title: Mazars action plan, id: 1m9DoDliarLW74Cz0pJYAnNTxh_BWTXvE_6-oNuOuGqU\n",
            "title: IE2110 Term Paper, id: 12wG6Gmqi5IQJHLzLtuttIIh-AP4LBq4ZBS_OQadbu5k\n",
            "title: GEQ Compiled caa 040417 Shun Jie (6).pptx, id: 1Lry8zWeZj5Z83gi_jQywMxRlmbLX_5nw6yFgY76CBQY\n",
            "title: GEQ Compiled caa 040417 Shun Jie (6).pptx, id: 1nkQkzr2HFH7D0C7OUSS4ALk67LvL2e5I\n",
            "title: Time sheet, id: 11NqIMnh1298L6k0uJNSk8cmHpSSJqodpiB2CDi0Ln6M\n",
            "title: iPad PDF, id: 0BwJ06ZrFXdFpYm1JTnQtNjNlUUE\n",
            "title: Gallery chatbot Backbone, id: 1PuyaJtJUNy854UXWeTM-qvIVUGuzeb5XwE9L_xKMXoA\n",
            "title: Product keys, id: 0BwJ06ZrFXdFpenRpdXhha1ZBakk\n",
            "title: Ideas for visualisations possible, id: 1dtBTNqOZ9CZ8Mz1tmHU-jLrYKOLVUVY8cpd4lmWBSdo\n",
            "title: Orbital Milestone 3, id: 1u5TiP5YKMli4m84m3KtO9MydUqfUKqXWpCGQAkV-6kk\n",
            "title: List of artworks, id: 1vPcwtsu3Z_ugWVnOIziyyZacn2ZRNXWw-TlfucY2WM4\n",
            "title: National Gallery 3 Chatbot, id: 0BwJ06ZrFXdFpM3ItR0VOd3BvaUk\n",
            "title: A knock, id: 1BUpO25wgUyYBqTGohbZi8Lu9pJYwf67z7TMKNZHEJlg\n",
            "title: Microsoft Toolkit 2.6.2 Final (Windows & Office Activator) [SadeemPC], id: 0BwJ06ZrFXdFpYVQtUFRRejlFM0k\n",
            "title: National Gallery Pitch, id: 178m7Ptdq6Tt3HcPGS7_WI4u6rdO2EsDOzh2BQFCJQoY\n",
            "title: What teachers make, id: 1yeSYG4rvq_wroJFK8ZbSG60uElFlfknztkOVxsK1ZQA\n",
            "title: SAC relational table, id: 0BwJ06ZrFXdFpS0J3bW5ycmNXelE\n",
            "title: SAC ER diagram, id: 0BwJ06ZrFXdFpemVGeUtQRE14bzg\n",
            "title: Programming lesson, id: 0BwJ06ZrFXdFpT0ctNTdVamhkcW8\n",
            "title: MKT, id: 1g-Jip6gz9VR7KxLRhDKQxZkidPmOTmKneo8GZ_nwWmg\n"
          ],
          "name": "stdout"
        }
      ]
    },
    {
      "metadata": {
        "id": "_OWcCt2FXq6R",
        "colab_type": "code",
        "colab": {
          "autoexec": {
            "startup": false,
            "wait_interval": 0
          }
        }
      },
      "cell_type": "code",
      "source": [
        "\"\"\" \n",
        "Now the test_images and training_images are an instance of the Google Drive file. \n",
        "Hence we need to get their content out into our working directory using the function GetContentFile().\n",
        "The parameter string inside is the name of the zip file that will be in our working directory.\n",
        "\"\"\"\n",
        "test_images.GetContentFile(\"testing_img\")\n",
        "training_images.GetContentFile(\"training_img\")\n"
      ],
      "execution_count": 0,
      "outputs": []
    },
    {
      "metadata": {
        "id": "PhfG9AyAZdir",
        "colab_type": "code",
        "colab": {
          "autoexec": {
            "startup": false,
            "wait_interval": 0
          }
        }
      },
      "cell_type": "code",
      "source": [
        "import zipfile\n",
        "\n",
        "zip_ref = zipfile.ZipFile(\"testing_img\", 'r')\n",
        "# extract test set into local directory folder called \"Test\"\n",
        "zip_ref.extractall(\"\")\n",
        "zip_ref.close()\n",
        "\n",
        "zip_ref = zipfile.ZipFile(\"training_img\", 'r')\n",
        "# extract test set into local directory folder called \"Train\"\n",
        "zip_ref.extractall(\"./Train\")\n",
        "zip_ref.close()\n"
      ],
      "execution_count": 0,
      "outputs": []
    },
    {
      "metadata": {
        "id": "pRua-kKOedVS",
        "colab_type": "code",
        "colab": {
          "autoexec": {
            "startup": false,
            "wait_interval": 0
          },
          "output_extras": [
            {
              "item_id": 1
            }
          ],
          "base_uri": "https://localhost:8080/",
          "height": 238
        },
        "outputId": "e0c589b8-2064-4f2a-d7a2-db7add4483a5",
        "executionInfo": {
          "status": "ok",
          "timestamp": 1521216191129,
          "user_tz": -480,
          "elapsed": 738,
          "user": {
            "displayName": "Chen Kuang",
            "photoUrl": "https://lh3.googleusercontent.com/a/default-user=s128",
            "userId": "116557127287388632451"
          }
        }
      },
      "cell_type": "code",
      "source": [
        "import os\n",
        "\n",
        "# You should see Train and Test folder inside listdir()\n",
        "os.listdir()"
      ],
      "execution_count": 10,
      "outputs": [
        {
          "output_type": "execute_result",
          "data": {
            "text/plain": [
              "['datalab',\n",
              " '.ipython',\n",
              " '.config',\n",
              " 'testing_img',\n",
              " 'test_images',\n",
              " 'test',\n",
              " '.forever',\n",
              " '.rnd',\n",
              " 'Train',\n",
              " 'training_img',\n",
              " 'Test',\n",
              " '.cache',\n",
              " '.local']"
            ]
          },
          "metadata": {
            "tags": []
          },
          "execution_count": 10
        }
      ]
    },
    {
      "metadata": {
        "id": "rdRzWhDUf7m-",
        "colab_type": "code",
        "colab": {
          "autoexec": {
            "startup": false,
            "wait_interval": 0
          }
        }
      },
      "cell_type": "code",
      "source": [
        ""
      ],
      "execution_count": 0,
      "outputs": []
    }
  ]
}